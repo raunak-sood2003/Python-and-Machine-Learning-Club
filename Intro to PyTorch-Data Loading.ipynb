{
 "cells": [
  {
   "cell_type": "markdown",
   "metadata": {},
   "source": [
    "# PyTorch Data Loading"
   ]
  },
  {
   "cell_type": "markdown",
   "metadata": {},
   "source": [
    "## PyTorch has really neat ways of loading data. Let's use this to load Cat and Dog images for our classifier."
   ]
  },
  {
   "cell_type": "code",
   "execution_count": 7,
   "metadata": {},
   "outputs": [],
   "source": [
    "# Image directories\n",
    "cat_dir = 'D:\\DATA\\PyTorch_BASIC\\CATS_DOGS\\train\\Cat' # Directory full of 12500 cat images\n",
    "dog_dir = 'D:\\DATA\\PyTorch_BASIC\\CATS_DOGS\\train\\Dog' # Directory full of 12500 dog images\n",
    "numpy_dir = 'D:/DATA/PyTorch_BASIC/CATS_DOGS/training_data.npy'"
   ]
  },
  {
   "cell_type": "code",
   "execution_count": 4,
   "metadata": {},
   "outputs": [],
   "source": [
    "# Before we can use the Dataset class, we want to make a numpy array with the labeled data\n",
    "def make_training_data():\n",
    "    LABELS = {CATS:0, DOGS:1}\n",
    "    IMG_SIZE = 50\n",
    "    training_data = []\n",
    "    for label in LABELS:\n",
    "        for f in tqdm(os.listdir(label)):\n",
    "            try: # In case certain images can't be accessed\n",
    "                path = os.path.join(label, f)\n",
    "                img = cv2.imread(path, cv2.IMREAD_GRAYSCALE)\n",
    "                img = cv2.resize(img, (IMG_SIZE, IMG_SIZE))\n",
    "                training_data.append([np.array(img), np.eye(2)[LABELS[label]]]) # np.eye creates one hot vectors\n",
    "            except Exception as e:\n",
    "                pass\n",
    "    \n",
    "    training_data = np.array(training_data)\n",
    "    np.random.shuffle(training_data)\n",
    "    np.save(numpy_dir, training_data)\n",
    "\n",
    "saved = True\n",
    "if not saved: # Don't want to recreate it every time we run the notebook\n",
    "    make_training_data()"
   ]
  },
  {
   "cell_type": "code",
   "execution_count": 21,
   "metadata": {},
   "outputs": [],
   "source": [
    "# Required libraries\n",
    "import torch\n",
    "from torch.utils.data import Dataset, DataLoader\n",
    "from torchvision import transforms # Torch vision is a PyTorch library for computer vision\n",
    "import numpy as np\n",
    "from tqdm import tqdm # Progress Bar library\n",
    "import matplotlib.pyplot as plt"
   ]
  },
  {
   "cell_type": "markdown",
   "metadata": {},
   "source": [
    "## Dataset class: PyTorch wrapper class for custom data sets.\n",
    "## DataLoader: Loads data in batches and applies transforms to data"
   ]
  },
  {
   "cell_type": "code",
   "execution_count": 15,
   "metadata": {},
   "outputs": [],
   "source": [
    "# We have to create a dataset class that inherits from Dataset; we can work from the numpy file we created\n",
    "\n",
    "class DOGVCAT_DATA(Dataset):\n",
    "    def __init__(self, data_npy, transforms = None):\n",
    "        self.data_npy = data_npy\n",
    "        self.transforms = transforms\n",
    "        \n",
    "        self.X_train = torch.Tensor([i[0] for i in self.data_npy]).view(-1, 1, 50, 50) # (# of imgs, channels, img_size, img_size)\n",
    "        self.X_train /= 255 # Normalizing\n",
    "        self.y_train = torch.Tensor([i[1] for i in self.data_npy])\n",
    "        \n",
    "    def __len__(self): # Special method to define the length of the data (REQUIRED)\n",
    "        return self.y_train.shape[0]\n",
    "    def __getitem__(self, idx): # Special method to define how to access an item (REQUIRED)\n",
    "        return self.X_train[idx], self.y_train[idx]"
   ]
  },
  {
   "cell_type": "code",
   "execution_count": 16,
   "metadata": {},
   "outputs": [],
   "source": [
    "batch_size = 32\n",
    "training_npy = np.load(numpy_dir, allow_pickle = True) # Loading the numpy data\n",
    "training_data = DOGVCAT_DATA(training_npy)\n",
    "train_loader = DataLoader(training_data, batch_size = batch_size, shuffle = True)"
   ]
  },
  {
   "cell_type": "code",
   "execution_count": 20,
   "metadata": {},
   "outputs": [
    {
     "name": "stdout",
     "output_type": "stream",
     "text": [
      "torch.Size([8, 1, 50, 50])\n",
      "torch.Size([8, 2])\n"
     ]
    }
   ],
   "source": [
    "# We can view the images and labels to make sure everything is good\n",
    "img_batch = -1\n",
    "label_batch = -1\n",
    "for batch in train_loader:\n",
    "    img_batch = batch[0]\n",
    "    label_batch = batch[1]\n",
    "print(img_batch.size())\n",
    "print(label_batch.size())"
   ]
  },
  {
   "cell_type": "code",
   "execution_count": 22,
   "metadata": {},
   "outputs": [
    {
     "name": "stdout",
     "output_type": "stream",
     "text": [
      "tensor([0., 1.])\n"
     ]
    },
    {
     "data": {
      "image/png": "[encoded data removed]",
      "text/plain": [
       "<Figure size 432x288 with 1 Axes>"
      ]
     },
     "metadata": {
      "needs_background": "light"
     },
     "output_type": "display_data"
    }
   ],
   "source": [
    "img = img_batch[0].view(50, 50)\n",
    "label = label_batch[0]\n",
    "plt.imshow(img)\n",
    "print(label)"
   ]
  },
  {
   "cell_type": "markdown",
   "metadata": {},
   "source": [
    "## Great! Our data is all set up for training..."
   ]
  }
 ],
 "metadata": {
  "kernelspec": {
   "display_name": "Python 3",
   "language": "python",
   "name": "python3"
  },
  "language_info": {
   "codemirror_mode": {
    "name": "ipython",
    "version": 3
   },
   "file_extension": ".py",
   "mimetype": "text/x-python",
   "name": "python",
   "nbconvert_exporter": "python",
   "pygments_lexer": "ipython3",
   "version": "3.7.6"
  }
 },
 "nbformat": 4,
 "nbformat_minor": 4
}
