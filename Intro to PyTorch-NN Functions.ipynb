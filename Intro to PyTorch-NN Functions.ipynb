{
 "cells": [
  {
   "cell_type": "markdown",
   "metadata": {},
   "source": [
    "# Introduction to PyTorch"
   ]
  },
  {
   "cell_type": "markdown",
   "metadata": {},
   "source": [
    "## PyTorch is a deep learning framework. It has a set of classes and functions to implement deep learning easily."
   ]
  },
  {
   "cell_type": "code",
   "execution_count": 1,
   "metadata": {},
   "outputs": [],
   "source": [
    "# Importing\n",
    "import torch"
   ]
  },
  {
   "cell_type": "code",
   "execution_count": 5,
   "metadata": {},
   "outputs": [
    {
     "name": "stdout",
     "output_type": "stream",
     "text": [
      "my_tensor:\n",
      "tensor([[0., 1., 2.],\n",
      "        [0., 1., 2.],\n",
      "        [0., 1., 2.]])\n",
      "zeros_tensor:\n",
      "tensor([[0., 0., 0.],\n",
      "        [0., 0., 0.],\n",
      "        [0., 0., 0.]])\n",
      "ones_tensor:\n",
      "tensor([[1., 1., 1.],\n",
      "        [1., 1., 1.],\n",
      "        [1., 1., 1.]])\n",
      "rand_tensor:\n",
      "tensor([[0.3164, 0.0906, 0.2209],\n",
      "        [0.1492, 0.1779, 0.1458],\n",
      "        [0.7434, 0.8140, 0.7034]])\n",
      "\n"
     ]
    }
   ],
   "source": [
    "# Has a bunch of \"numpy like\" functions\n",
    "my_tensor = torch.Tensor([[0, 1, 2], [0, 1, 2], [0, 1, 2]])\n",
    "zeros_tensor = torch.zeros([3, 3])\n",
    "ones_tensor = torch.ones([3, 3])\n",
    "rand_tensor = torch.rand([3, 3])\n",
    "\n",
    "print(\"my_tensor:\\n%s\\nzeros_tensor:\\n%s\\nones_tensor:\\n%s\\nrand_tensor:\\n%s\\n\" \n",
    "      % (my_tensor, zeros_tensor, ones_tensor, rand_tensor))"
   ]
  },
  {
   "cell_type": "code",
   "execution_count": 7,
   "metadata": {},
   "outputs": [
    {
     "name": "stdout",
     "output_type": "stream",
     "text": [
      "my_tensor shape: torch.Size([3, 3])\n",
      "zeros_tensor shape: torch.Size([3, 3])\n",
      "ones_tensor shape: torch.Size([3, 3])\n",
      "rand_tensor shape: torch.Size([3, 3])\n",
      "\n"
     ]
    }
   ],
   "source": [
    "# You get their shape\n",
    "my_tensor_shape = my_tensor.size()\n",
    "zeros_tensor_shape = zeros_tensor.size()\n",
    "ones_tensor_shape = ones_tensor.size()\n",
    "rand_tensor_shape = rand_tensor.size()\n",
    "print(\"my_tensor shape: %s\\nzeros_tensor shape: %s\\nones_tensor shape: %s\\nrand_tensor shape: %s\\n\" \n",
    "      % (my_tensor_shape, zeros_tensor_shape, ones_tensor_shape, rand_tensor_shape))"
   ]
  },
  {
   "cell_type": "code",
   "execution_count": 8,
   "metadata": {},
   "outputs": [
    {
     "name": "stdout",
     "output_type": "stream",
     "text": [
      "my_tensor shape: torch.Size([9, 1])\n",
      "zeros_tensor shape: torch.Size([1, 9])\n",
      "ones_tensor shape: torch.Size([9])\n",
      "rand_tensor shape: torch.Size([9, 1])\n",
      "\n"
     ]
    }
   ],
   "source": [
    "# And reshape them\n",
    "my_tensor = my_tensor.view(9, 1)\n",
    "zeros_tensor = zeros_tensor.view(1, 9)\n",
    "ones_tensor = ones_tensor.view(9,)\n",
    "rand_tensor = rand_tensor.view(9, 1)\n",
    "\n",
    "my_tensor_shape = my_tensor.size()\n",
    "zeros_tensor_shape = zeros_tensor.size()\n",
    "ones_tensor_shape = ones_tensor.size()\n",
    "rand_tensor_shape = rand_tensor.size()\n",
    "\n",
    "print(\"my_tensor shape: %s\\nzeros_tensor shape: %s\\nones_tensor shape: %s\\nrand_tensor shape: %s\\n\" \n",
    "      % (my_tensor_shape, zeros_tensor_shape, ones_tensor_shape, rand_tensor_shape))"
   ]
  },
  {
   "cell_type": "code",
   "execution_count": 9,
   "metadata": {},
   "outputs": [],
   "source": [
    "# But the real benefit of PyTorch is the neural network library\n",
    "import torch.nn as nn"
   ]
  },
  {
   "cell_type": "code",
   "execution_count": 13,
   "metadata": {},
   "outputs": [
    {
     "name": "stdout",
     "output_type": "stream",
     "text": [
      "Dense Layer: Linear(in_features=8, out_features=16, bias=True)\n",
      "Conv layer: Conv2d(32, 16, kernel_size=(3, 3), stride=(1, 1), padding=(1, 1))\n",
      "MaxPool layer: MaxPool2d(kernel_size=(2, 2), stride=2, padding=0, dilation=1, ceil_mode=False)\n"
     ]
    }
   ],
   "source": [
    "# It has various neural network layers\n",
    "in_neurons, out_neurons = 8, 16\n",
    "dense1 = nn.Linear(in_neurons, out_neurons)\n",
    "print(\"Dense Layer:\", dense1)\n",
    "\n",
    "in_channels, out_channels = 32, 16\n",
    "kernel_size = (3, 3)\n",
    "strides, padding = 1, 1\n",
    "conv1 = nn.Conv2d(in_channels, out_channels, kernel_size, strides, padding)\n",
    "print(\"Conv layer:\", conv1)\n",
    "\n",
    "pool_size = (2, 2)\n",
    "pool_stride = 2\n",
    "maxpool1 = nn.MaxPool2d(pool_size, pool_stride)\n",
    "print(\"MaxPool layer:\", maxpool1)"
   ]
  },
  {
   "cell_type": "code",
   "execution_count": 19,
   "metadata": {},
   "outputs": [
    {
     "name": "stdout",
     "output_type": "stream",
     "text": [
      "Sigmoid Num: tensor([0.7311, 0.7311, 0.7311])\n",
      "ReLU Num: tensor([1., 1., 1.])\n",
      "Softmax Num: tensor([0.3333, 0.3333, 0.3333])\n",
      "Tanh Num: tensor([0.7616, 0.7616, 0.7616])\n",
      "\n"
     ]
    }
   ],
   "source": [
    "# And activations\n",
    "tensor = torch.Tensor([1, 1, 1])\n",
    "sigmoid = nn.Sigmoid()\n",
    "relu = nn.ReLU()\n",
    "softmax = nn.Softmax(dim = -1) # Have to specify dimension for this one (-1 indicates let it choose)\n",
    "tanh = nn.Tanh()\n",
    "\n",
    "print(\"Sigmoid Num: %s\\nReLU Num: %s\\nSoftmax Num: %s\\nTanh Num: %s\\n\" \n",
    "      %(sigmoid(tensor), relu(tensor), softmax(tensor), tanh(tensor)))"
   ]
  },
  {
   "cell_type": "code",
   "execution_count": 21,
   "metadata": {},
   "outputs": [],
   "source": [
    "# Loss functions (known as \"criterion\")\n",
    "categorical_crossentropy = nn.CrossEntropyLoss()\n",
    "binary_crossentropy = nn.BCELoss() # See the utility in action when we make our own neural networks"
   ]
  },
  {
   "cell_type": "markdown",
   "metadata": {},
   "source": [
    "## Let's see how we can use these functions to implement a neural network!"
   ]
  }
 ],
 "metadata": {
  "kernelspec": {
   "display_name": "Python 3",
   "language": "python",
   "name": "python3"
  },
  "language_info": {
   "codemirror_mode": {
    "name": "ipython",
    "version": 3
   },
   "file_extension": ".py",
   "mimetype": "text/x-python",
   "name": "python",
   "nbconvert_exporter": "python",
   "pygments_lexer": "ipython3",
   "version": "3.7.6"
  }
 },
 "nbformat": 4,
 "nbformat_minor": 4
}
