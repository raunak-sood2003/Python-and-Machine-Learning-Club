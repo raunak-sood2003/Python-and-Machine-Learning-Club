{
 "cells": [
  {
   "cell_type": "markdown",
   "metadata": {},
   "source": [
    "# Numpy Tutorial"
   ]
  },
  {
   "cell_type": "markdown",
   "metadata": {},
   "source": [
    "<div>\n",
    "<img src=\"https://raw.githubusercontent.com/raunak-sood2003/Python-and-Machine-Learning-Club/master/Images/numpy.png\" width=\"500\"/>\n",
    "</div>\n"
   ]
  },
  {
   "cell_type": "markdown",
   "metadata": {},
   "source": [
    "## Numpy is a Python library used for array and matrix manipulation. It has many benefits over traditional Python lists.\n",
    "\n",
    "  ### --> Provides multiple useful matrix operations\n",
    "  ### --> Much less memory than Python lists\n",
    "  ### --> You can specify the data type"
   ]
  },
  {
   "cell_type": "code",
   "execution_count": 1,
   "metadata": {},
   "outputs": [],
   "source": [
    "# Importing the numpy library\n",
    "import numpy as np"
   ]
  },
  {
   "cell_type": "code",
   "execution_count": 2,
   "metadata": {},
   "outputs": [
    {
     "name": "stdout",
     "output_type": "stream",
     "text": [
      "Zeros:\n",
      " [[0. 0. 0.]\n",
      " [0. 0. 0.]\n",
      " [0. 0. 0.]]\n",
      "\n",
      "Ones:\n",
      " [[1. 1. 1.]\n",
      " [1. 1. 1.]\n",
      " [1. 1. 1.]]\n",
      "\n",
      "Random:\n",
      " [[ 1.35367716 -1.67614524  0.95676566]\n",
      " [ 1.2142571   0.74634566 -0.52450135]\n",
      " [-1.12819857  0.80862755 -0.10456017]]\n",
      "\n",
      "My Array:\n",
      " [[0 1 2]\n",
      " [3 4 5]\n",
      " [6 7 8]]\n",
      "\n",
      "Quick Array 1:\n",
      " [0 1 2 3 4 5 6 7 8]\n",
      "\n",
      "Quick Array 2:\n",
      " [0. 1. 2. 3. 4. 5. 6. 7. 8.]\n"
     ]
    }
   ],
   "source": [
    "# Array creation\n",
    "dim_x, dim_y = 3, 3 # Set the dimensions of the array\n",
    "\n",
    "zeros = np.zeros([dim_x, dim_y]) # Array full of zeros\n",
    "ones = np.ones([dim_x, dim_y]) # Array full of ones\n",
    "rand = np.random.randn(dim_x, dim_y) # Array full of random floats\n",
    "my_array = np.array([\n",
    "    [0, 1, 2],\n",
    "    [3, 4, 5],\n",
    "    [6, 7, 8]]) # Custom array\n",
    "quick_array1 = np.arange(0, 9) # Creates array of values between 0 and n-1\n",
    "quick_array2 = np.linspace(0, 8, 9) # Creates evenly split array [start, stop, split]\n",
    "\n",
    "print(\"Zeros:\\n %s\\n\\nOnes:\\n %s\\n\\nRandom:\\n %s\\n\\nMy Array:\\n %s\\n\\nQuick Array 1:\\n %s\\n\\nQuick Array 2:\\n %s\"  \n",
    "      % (zeros, ones, rand, my_array, quick_array1, quick_array2))"
   ]
  },
  {
   "cell_type": "code",
   "execution_count": 3,
   "metadata": {},
   "outputs": [
    {
     "name": "stdout",
     "output_type": "stream",
     "text": [
      "zeros_shape: (3, 3)\n",
      "ones_shape: (3, 3)\n",
      "rand_shape: (3, 3)\n",
      "my_array_shape: (3, 3)\n",
      "quick_array1_shape: (9,)\n",
      "quick_array2_shape: (9,)\n"
     ]
    }
   ],
   "source": [
    "# Finding shape and reshaping arrays\n",
    "\n",
    "zeros_shape = zeros.shape\n",
    "ones_shape = ones.shape\n",
    "rand_shape = rand.shape\n",
    "my_array_shape = my_array.shape\n",
    "quick_array1_shape = quick_array1.shape\n",
    "quick_array2_shape = quick_array2.shape\n",
    "# Notice how shape doesn't require parenthesis...what kind of data type is shape?\n",
    "\n",
    "print(\"zeros_shape: %s\\nones_shape: %s\\nrand_shape: %s\\nmy_array_shape: %s\\nquick_array1_shape: %s\\nquick_array2_shape: %s\" \n",
    "      % (zeros_shape, ones_shape, rand_shape, my_array_shape, quick_array1_shape, quick_array2_shape))"
   ]
  },
  {
   "cell_type": "code",
   "execution_count": 4,
   "metadata": {},
   "outputs": [
    {
     "name": "stdout",
     "output_type": "stream",
     "text": [
      "cool_array shape: (4, 4)\n",
      "cool_array_reshaped shape: (1, 16)\n",
      "rank1_cool shape: (16,)\n",
      "\n"
     ]
    }
   ],
   "source": [
    "# What is the (9,)?\n",
    "# It's called a rank 1 array, meaning that the array could be treated as (9, 1) or (1, 9) depending on the situation\n",
    "\n",
    "#Reshaping arrays\n",
    "dim_x = 4\n",
    "dim_y = 4\n",
    "cool_array = np.zeros([dim_x, dim_y])\n",
    "cool_array_reshaped = cool_array.reshape(-1, dim_x*dim_y) #This is called flattening the array\n",
    "rank1_cool = cool_array.reshape(dim_x*dim_y,) \n",
    "\n",
    "print(\"cool_array shape: %s\\ncool_array_reshaped shape: %s\\nrank1_cool shape: %s\\n\" \n",
    "      % (cool_array.shape, cool_array_reshaped.shape, rank1_cool.shape))"
   ]
  },
  {
   "cell_type": "code",
   "execution_count": 5,
   "metadata": {},
   "outputs": [
    {
     "name": "stdout",
     "output_type": "stream",
     "text": [
      "cool_array size: 16\n",
      "rank1_cool size 16\n"
     ]
    }
   ],
   "source": [
    "# Getting the size of an array\n",
    "cool_array_size = cool_array.size\n",
    "rank1_cool_size = rank1_cool.size\n",
    "\n",
    "print(\"cool_array size:\", cool_array_size)\n",
    "print(\"rank1_cool size\", rank1_cool_size)"
   ]
  },
  {
   "cell_type": "code",
   "execution_count": 6,
   "metadata": {},
   "outputs": [
    {
     "name": "stdout",
     "output_type": "stream",
     "text": [
      "Adding:\n",
      "[[1 3]\n",
      " [4 6]]\n",
      "\n",
      "Subtracting:\n",
      " [[-1 -1]\n",
      " [ 0  0]]\n",
      "\n",
      "Element-wise mult:\n",
      " [[0 2]\n",
      " [4 9]]\n",
      "\n",
      "Division:\n",
      " [[0.  0.5]\n",
      " [1.  1. ]]\n",
      "\n",
      "Matrix mult:\n",
      " [[ 2  3]\n",
      " [ 8 13]]\n",
      "Transposed Arr1:\n",
      " [[0 2]\n",
      " [1 3]]\n"
     ]
    }
   ],
   "source": [
    "# Array operations\n",
    "\n",
    "arr1 = np.array([[0, 1], \n",
    "                 [2, 3]])\n",
    "\n",
    "arr2 = np.array([[1, 2], \n",
    "                 [2, 3]])\n",
    "\n",
    "added_arr = arr1 + arr2\n",
    "sub_arr = arr1 - arr2\n",
    "element_wise_arr = arr1 * arr2\n",
    "div_arr = arr1 / arr2\n",
    "mat_mul_arr = np.matmul(arr1, arr2)\n",
    "transposed_arr1 = arr1.T\n",
    "\n",
    "print(\"Adding:\\n%s\\n\\nSubtracting:\\n %s\\n\\nElement-wise mult:\\n %s\\n\\nDivision:\\n %s\\n\\nMatrix mult:\\n %s\\nTransposed Arr1:\\n %s\" \n",
    "      % (added_arr, sub_arr, element_wise_arr, div_arr, mat_mul_arr, transposed_arr1))"
   ]
  },
  {
   "cell_type": "code",
   "execution_count": 7,
   "metadata": {},
   "outputs": [
    {
     "name": "stdout",
     "output_type": "stream",
     "text": [
      "Vector:\n",
      " [[0.08078238]\n",
      " [0.50933729]\n",
      " [0.51059987]]\n",
      "Tensor:\n",
      " [[[-0.29831685  0.08999135 -0.12953911]\n",
      "  [-0.29138058 -2.74618891 -0.6953872 ]\n",
      "  [-0.42526406 -0.84685342 -0.6502572 ]]\n",
      "\n",
      " [[-0.02341423  0.47586026 -0.10714244]\n",
      "  [ 1.42824721 -1.04201558  0.58758762]\n",
      "  [ 0.69572734  1.49173693 -0.45213675]]\n",
      "\n",
      " [[-0.17865579  0.5103712  -0.2817568 ]\n",
      "  [ 0.79323557 -0.48974862  0.99206512]\n",
      "  [ 1.63345458 -1.0697359  -1.02644155]]]\n"
     ]
    }
   ],
   "source": [
    "# Vectors and Tensors\n",
    "# Vocab: Vector refers to a matrix that is either a row or column e.g (1, n) or (n, 1)\n",
    "# Vocab: Tensor is an important DL word meaning multi-dimensional matrix\n",
    "\n",
    "vector = np.random.randn(3, 1)\n",
    "tensor = np.random.randn(3, 3, 3)\n",
    "\n",
    "print(\"Vector:\\n\", vector)\n",
    "print(\"Tensor:\\n\", tensor) # Notice the number of brackets (hard to visualize 3d on a screen)"
   ]
  },
  {
   "cell_type": "code",
   "execution_count": 8,
   "metadata": {},
   "outputs": [
    {
     "name": "stdout",
     "output_type": "stream",
     "text": [
      "[1, 2, 3]\n"
     ]
    }
   ],
   "source": [
    "# Sclicing\n",
    "\n",
    "# We know how to slice 1D Python lists\n",
    "ls = [1, 2, 3, 4, 5]\n",
    "first_three = ls[:3] # Gets first three elements\n",
    "print(first_three)"
   ]
  },
  {
   "cell_type": "code",
   "execution_count": 9,
   "metadata": {},
   "outputs": [
    {
     "name": "stdout",
     "output_type": "stream",
     "text": [
      "[0, 1, 2]\n"
     ]
    }
   ],
   "source": [
    "# ...And 2D Python lists\n",
    "mat = [[0, 1, 2],\n",
    "     [3, 4, 5],\n",
    "     [6, 7, 8]]\n",
    "first_row = mat[0][:]\n",
    "print(first_row)"
   ]
  },
  {
   "cell_type": "code",
   "execution_count": 10,
   "metadata": {},
   "outputs": [
    {
     "name": "stdout",
     "output_type": "stream",
     "text": [
      "[[0, 1, 2], [3, 4, 5], [6, 7, 8]]\n"
     ]
    }
   ],
   "source": [
    "# ...And any dimensional Python list\n",
    "mat_3D =  [[[0, 1, 2],\n",
    "            [3, 4, 5],\n",
    "            [6, 7, 8]],\n",
    "          [[0, 1, 2],\n",
    "            [3, 4, 5],\n",
    "            [6, 7, 8]],\n",
    "          [[0, 1, 2],\n",
    "            [3, 4, 5],\n",
    "            [6, 7, 8]]]\n",
    "# This is a (3 x 3 x 3) tensor, like a rubix cube\n",
    "\n",
    "first_slice = mat_3D[0][:][:]\n",
    "print(first_slice) # Kinda have to imagine it stacked"
   ]
  },
  {
   "cell_type": "code",
   "execution_count": 11,
   "metadata": {},
   "outputs": [
    {
     "name": "stdout",
     "output_type": "stream",
     "text": [
      "First three numbers of vector:\n",
      "[[-0.44003042]\n",
      " [-1.51174639]\n",
      " [ 0.16020351]]\n",
      "First row of matrix:\n",
      "[-0.62797352 -0.97004791 -1.04568711]\n",
      "First slice of tensor:\n",
      "[[-1.45935618  0.90934649  0.11832525]\n",
      " [-0.49981458  0.28478863  0.54774432]\n",
      " [ 0.12636605 -1.78464152  0.73706047]]\n",
      "\n"
     ]
    }
   ],
   "source": [
    "# Numpy works the same way\n",
    "n = 3\n",
    "vector = np.random.randn(n, 1)\n",
    "matrix = np.random.randn(n, n)\n",
    "tensor = np.random.randn(n, n, n)\n",
    "\n",
    "first_three_vector = vector[:3]\n",
    "first_row_matrix = matrix[0][:]\n",
    "first_slice_tensor = tensor[0][:][:]\n",
    "\n",
    "print(\"First three numbers of vector:\\n%s\\nFirst row of matrix:\\n%s\\nFirst slice of tensor:\\n%s\\n\" \n",
    "      % (first_three_vector, first_row_matrix, first_slice_tensor))"
   ]
  },
  {
   "cell_type": "code",
   "execution_count": 12,
   "metadata": {},
   "outputs": [
    {
     "name": "stdout",
     "output_type": "stream",
     "text": [
      "[-0.44003042 -1.51174639  0.16020351]\n"
     ]
    }
   ],
   "source": [
    "# Notice how the first three numbers came as a two dimensional array even though it could be written as an (n, 1) vector\n",
    "# We can fix this by \"squeezing the matrix\"\n",
    "\n",
    "squeezed_vector = np.squeeze(first_three_vector) # Makes it as low dimensional as possible\n",
    "print(squeezed_vector)"
   ]
  },
  {
   "cell_type": "code",
   "execution_count": 13,
   "metadata": {},
   "outputs": [
    {
     "name": "stdout",
     "output_type": "stream",
     "text": [
      "Max Num: 10\n",
      "Min Num: 3\n",
      "Max Num Index: 5\n",
      "Min Num Index: 3\n",
      "\n"
     ]
    }
   ],
   "source": [
    "# Max, mins and there indexes\n",
    "# Memorize these, very important\n",
    "\n",
    "fun_array = np.array([5, 4, 6, 3, 9, 10, 4])\n",
    "\n",
    "maxNum = np.amax(fun_array)\n",
    "minNum = np.amin(fun_array)\n",
    "maxIndex = np.argmax(fun_array)\n",
    "minIndex = np.amin(fun_array)\n",
    "\n",
    "print(\"Max Num: %s\\nMin Num: %s\\nMax Num Index: %s\\nMin Num Index: %s\\n\" \n",
    "      % (maxNum, minNum, maxIndex, minIndex))"
   ]
  },
  {
   "cell_type": "markdown",
   "metadata": {},
   "source": [
    "# Review \n",
    "\n",
    "## All important numpy instance variables\n",
    "\n",
    "### array.shape\n",
    "### array.size\n",
    "\n",
    "## Important numpy functions\n",
    "\n",
    "### np.zeros([dim_X = ..., dim_y = ...])\n",
    "### np.ones([dim_X = ..., dim_y = ...])\n",
    "### np.random.randn(dim_X = ..., dim_y = ...)\n",
    "### np.array([iterable])\n",
    "### np.arange(start, stop, step)\n",
    "### np.linspace(start, stop, num)\n",
    "### np.amax(array)\n",
    "### np.amin(array)\n",
    "### np.argmax(array)\n",
    "### np.argmin(array)\n",
    "\n",
    "## Other stuff\n",
    "\n",
    "### All operations (add, sub, matmul, element_wise_mult, division, transpose)\n",
    "### Vocab: vector, matrix, tensor\n",
    "### Slicing 1D, 2D and higher dimensional numpy arrays [:, :,  ...]\n",
    "### Squeezing arrays: array.squeeze()\n",
    "### Reshaping arrays: array.reshape(n, n, ...)"
   ]
  },
  {
   "cell_type": "markdown",
   "metadata": {},
   "source": [
    "# Thanks for listening!!"
   ]
  },
  {
   "cell_type": "markdown",
   "metadata": {},
   "source": [
    "<div>\n",
    "<img src=\"https://raw.githubusercontent.com/raunak-sood2003/Python-and-Machine-Learning-Club/master/Images/fun_img.png\" width=\"500\"/>\n",
    "</div>"
   ]
  },
  {
   "cell_type": "code",
   "execution_count": null,
   "metadata": {},
   "outputs": [],
   "source": []
  }
 ],
 "metadata": {
  "kernelspec": {
   "display_name": "Python 3",
   "language": "python",
   "name": "python3"
  },
  "language_info": {
   "codemirror_mode": {
    "name": "ipython",
    "version": 3
   },
   "file_extension": ".py",
   "mimetype": "text/x-python",
   "name": "python",
   "nbconvert_exporter": "python",
   "pygments_lexer": "ipython3",
   "version": "3.7.6"
  }
 },
 "nbformat": 4,
 "nbformat_minor": 4
}
