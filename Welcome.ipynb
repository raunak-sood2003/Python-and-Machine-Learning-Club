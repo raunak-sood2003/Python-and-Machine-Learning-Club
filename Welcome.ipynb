{
 "cells": [
  {
   "cell_type": "markdown",
   "metadata": {},
   "source": [
    "# Welcome to the Python and Artificial Intelligence Club!"
   ]
  },
  {
   "cell_type": "markdown",
   "metadata": {},
   "source": [
    "\n",
    "\n",
    "<div>\n",
    "<img src=\"https://raw.githubusercontent.com/raunak-sood2003/Python-and-Machine-Learning-Club/master/Images/img1.jpeg\" width=\"500\"/>\n",
    "</div>"
   ]
  },
  {
   "cell_type": "markdown",
   "metadata": {},
   "source": [
    "## In this club we will cover the following topics:\n",
    "\n",
    "### 1.) Programming in Python including basic data types, conditionals, loops, classes, object oriented programmming and more\n",
    "### 2.) Introduction to Artifical Intelligence: What is it about?\n",
    "### 3.) Machine Learning concepts: classification and regression\n",
    "### 4.) Machine Learning in Python: Implementing Scikit-learn\n",
    "### 5.) Introduction to Deep Learning: What is a neural network?\n",
    "### 6.) Implementing Deep Learning in Python: Tensorflow and Keras\n",
    "### 7.) Future Work with AI: More advanced topics"
   ]
  },
  {
   "cell_type": "markdown",
   "metadata": {},
   "source": [
    "\n",
    "<div>\n",
    "<img src=\"https://raw.githubusercontent.com/raunak-sood2003/Python-and-Machine-Learning-Club/master/Images/img4.jpg\" width=\"500\"/>\n",
    "</div>"
   ]
  },
  {
   "cell_type": "markdown",
   "metadata": {},
   "source": [
    "   # No, not that kind of Python!"
   ]
  },
  {
   "cell_type": "markdown",
   "metadata": {},
   "source": [
    "\n",
    "<div>\n",
    "<img src=\"https://raw.githubusercontent.com/raunak-sood2003/Python-and-Machine-Learning-Club/master/Images/img5.jpg\" width=\"500\"/>\n",
    "</div>"
   ]
  },
  {
   "cell_type": "markdown",
   "metadata": {},
   "source": [
    "## Why you should join our club:\n",
    "\n",
    "### The club may help some of you decide what major you want to pursue in college.\n",
    "### Python is a very commonly required programming language in many jobs.\n",
    "### AI is a rapidly growing field, so there is always need for innovation.\n",
    "### Many computer science and engineering jobs nowadays require knowledge of this topic.\n",
    "### You will be at a significant advantage over others with AI knowledge.\n",
    "### We show you how to use GitHub which is a platform to show off your knowledge.\n"
   ]
  },
  {
   "cell_type": "markdown",
   "metadata": {},
   "source": [
    "\n",
    "<div>\n",
    "<img src=\"https://raw.githubusercontent.com/raunak-sood2003/Python-and-Machine-Learning-Club/master/Images/img2.jpeg\" width=\"500\"/>\n",
    "</div>"
   ]
  },
  {
   "cell_type": "markdown",
   "metadata": {},
   "source": [
    "## How each club meeting will work:\n",
    "\n",
    "### We will have teaching days and project days.\n",
    "### During teaching days, we will teach a certain concept and you will have a chance to ask questions.\n",
    "### During project days, we will guide you guys through your own projects that you can upload to GitHub!\n",
    "### We will often give you additional resources to supplement what you learned.\n",
    "### Throughout the week we will send you readings/problems to try on your own!"
   ]
  },
  {
   "cell_type": "markdown",
   "metadata": {},
   "source": [
    "## Commitment:\n",
    "\n",
    "We understand that you guys are busy (AB gives a lot of work, right?), but I hope you guys can find an hour or two TOTAL during the week in addition to our weekly meets to do some research in the topics that we cover."
   ]
  },
  {
   "cell_type": "markdown",
   "metadata": {},
   "source": [
    "\n",
    "<div>\n",
    "<img src=\"https://raw.githubusercontent.com/raunak-sood2003/Python-and-Machine-Learning-Club/master/Images/img6.jpg\" width=\"500\"/>\n",
    "</div>\n"
   ]
  },
  {
   "cell_type": "markdown",
   "metadata": {},
   "source": [
    "\n",
    "Note: Throughout the year, we will give you a high level overview of the topics in AI; we expect that you research the topics in addition to what we teach. And by no means are you expected to be an expert! AI is a very difficult topic that is being studied at graduate levels, and the three of us are continuously learning. Our goal in this club is to introduce you guys to the field and motivate those who are truly interested!\n"
   ]
  },
  {
   "cell_type": "markdown",
   "metadata": {},
   "source": [
    "\n",
    "<div>\n",
    "<img src=\"https://raw.githubusercontent.com/raunak-sood2003/Python-and-Machine-Learning-Club/master/Images/img3.png\" width=\"500\"/>\n",
    "</div>"
   ]
  },
  {
   "cell_type": "markdown",
   "metadata": {},
   "source": [
    "# Hope you guys stick around, so we can learn together!"
   ]
  }
 ],
 "metadata": {
  "kernelspec": {
   "display_name": "Python 3",
   "language": "python",
   "name": "python3"
  },
  "language_info": {
   "codemirror_mode": {
    "name": "ipython",
    "version": 3
   },
   "file_extension": ".py",
   "mimetype": "text/x-python",
   "name": "python",
   "nbconvert_exporter": "python",
   "pygments_lexer": "ipython3",
   "version": "3.7.6"
  }
 },
 "nbformat": 4,
 "nbformat_minor": 4
}
